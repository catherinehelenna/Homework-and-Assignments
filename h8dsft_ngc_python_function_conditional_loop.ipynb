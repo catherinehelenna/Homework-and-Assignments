{
 "cells": [
  {
   "cell_type": "markdown",
   "metadata": {},
   "source": [
    "FTDS Batch 027 - RMT\n",
    "Catherine Helenna Mulyadi\n",
    "NGC 2"
   ]
  },
  {
   "cell_type": "code",
   "execution_count": 5,
   "metadata": {},
   "outputs": [],
   "source": [
    "# TASK 1 - Number of Word\n",
    "def number_of_word(sentence):\n",
    "    sentence = sentence.split()\n",
    "    word_counter = len(sentence)\n",
    "    return word_counter"
   ]
  },
  {
   "cell_type": "code",
   "execution_count": 4,
   "metadata": {},
   "outputs": [
    {
     "data": {
      "text/plain": [
       "2"
      ]
     },
     "execution_count": 4,
     "metadata": {},
     "output_type": "execute_result"
    }
   ],
   "source": [
    "# first input test\n",
    "number_of_word(sentence=\"Hello World!\")"
   ]
  },
  {
   "cell_type": "code",
   "execution_count": 2,
   "metadata": {},
   "outputs": [
    {
     "data": {
      "text/plain": [
       "8"
      ]
     },
     "execution_count": 2,
     "metadata": {},
     "output_type": "execute_result"
    }
   ],
   "source": [
    "# second input test\n",
    "number_of_word(sentence=\"Once Upon a Time in a faraway land\")"
   ]
  },
  {
   "cell_type": "code",
   "execution_count": 8,
   "metadata": {},
   "outputs": [],
   "source": [
    "# TASK 2 - Find Multiple\n",
    "\n",
    "def find_multiples(start_range, end_range, multiple):\n",
    "    result = []\n",
    "    # we add plus one for the end_range to include the desired last number for the operation\n",
    "    for number in range(start_range, end_range+1):\n",
    "        # condition where a number is a multiplication of a multiple\n",
    "        if number % multiple == 0:\n",
    "            result.append(number)\n",
    "    # you will give the output of list \"result\" containing all the relevant numbers\n",
    "    return result"
   ]
  },
  {
   "cell_type": "code",
   "execution_count": 9,
   "metadata": {},
   "outputs": [
    {
     "data": {
      "text/plain": [
       "[5, 10, 15, 20]"
      ]
     },
     "execution_count": 9,
     "metadata": {},
     "output_type": "execute_result"
    }
   ],
   "source": [
    "# first input test\n",
    "find_multiples(start_range = 1, end_range = 20, multiple = 5)"
   ]
  },
  {
   "cell_type": "code",
   "execution_count": 10,
   "metadata": {},
   "outputs": [
    {
     "data": {
      "text/plain": [
       "[10, 20, 30, 40, 50]"
      ]
     },
     "execution_count": 10,
     "metadata": {},
     "output_type": "execute_result"
    }
   ],
   "source": [
    "# second input test\n",
    "\n",
    "find_multiples(start_range = 1, end_range =50, multiple = 10)\n"
   ]
  },
  {
   "cell_type": "code",
   "execution_count": 14,
   "metadata": {},
   "outputs": [],
   "source": [
    "# TASK 3 - Grade Converter\n",
    "def Grade_Converter(convert_to, **kwargs):\n",
    "    # separated the variable length arguments into keys and values\n",
    "    students_names = list(kwargs.keys())\n",
    "    students_score = list(kwargs.values())\n",
    "    # initialized two empty list to store gpa and alphabet scores\n",
    "    gpa_score = []\n",
    "    alphabet_score = []\n",
    "\n",
    "    # processing the conversion to obtain gpa and alphabet scores\n",
    "    for n in range(len(students_score)):\n",
    "        if 85 <= students_score[n] <= 100:\n",
    "            gpa_score.append(4)\n",
    "            alphabet_score.append(\"A\")\n",
    "        elif students_score[n] >= 70:\n",
    "            gpa_score.append(3)\n",
    "            alphabet_score.append(\"B\")\n",
    "        elif students_score[n] >= 60:\n",
    "            gpa_score.append(2.5)\n",
    "            alphabet_score.append(\"C\")\n",
    "        elif students_score[n] >= 50:\n",
    "            gpa_score.append(2)\n",
    "            alphabet_score.append(\"D\")\n",
    "        elif students_score[n] >= 40:\n",
    "            gpa_score.append(1.5)\n",
    "            alphabet_score.append(\"E\")\n",
    "        else:\n",
    "            gpa_score.append(1)\n",
    "            alphabet_score.append(\"F\")\n",
    "\n",
    "    # integrating key: student names and values: gpa/ alphabet scores\n",
    "    if convert_to == \"gpa\":\n",
    "        dict_gpa = dict(zip(students_names, gpa_score))\n",
    "        return dict_gpa\n",
    "    elif convert_to == \"letter_grade\":\n",
    "        dict_letter_grade = dict(zip(students_names, alphabet_score))\n",
    "        return dict_letter_grade\n",
    "    else:\n",
    "        return None\n"
   ]
  },
  {
   "cell_type": "code",
   "execution_count": 15,
   "metadata": {},
   "outputs": [
    {
     "data": {
      "text/plain": [
       "{'Adam': 2.5, 'Faiz': 4}"
      ]
     },
     "execution_count": 15,
     "metadata": {},
     "output_type": "execute_result"
    }
   ],
   "source": [
    "# first input test\n",
    "Grade_Converter(convert_to = 'gpa', Adam=62, Faiz=91)"
   ]
  },
  {
   "cell_type": "code",
   "execution_count": 16,
   "metadata": {},
   "outputs": [
    {
     "data": {
      "text/plain": [
       "{'Albert': 'A', 'Dwi': 'B', 'Syahdan': 'D', 'Veronica': 'B'}"
      ]
     },
     "execution_count": 16,
     "metadata": {},
     "output_type": "execute_result"
    }
   ],
   "source": [
    "# second input test\n",
    "Grade_Converter(convert_to='letter_grade', Albert=90, Dwi=82, Syahdan=58, Veronica=84)"
   ]
  },
  {
   "cell_type": "code",
   "execution_count": 32,
   "metadata": {},
   "outputs": [],
   "source": [
    "# TASK 4 - Fibonacci Sequence\n",
    "\n",
    "def my_function(n):\n",
    "    # initialized the first two values in Fibonacci sequence\n",
    "    Fibo_seq = [0,1]\n",
    "    # create the conditions when Fibonacci calculation is applied\n",
    "    if n == 0:\n",
    "        return Fibo_seq[0]\n",
    "    elif n == 1:\n",
    "        return Fibo_seq[1]\n",
    "    elif n > 1:\n",
    "        for index in range(n):\n",
    "            if index >= 1:\n",
    "                new_number = Fibo_seq[index] + Fibo_seq[index-1]\n",
    "                Fibo_seq.append(new_number)\n",
    "                new_number = 0\n",
    "    # if n < 0, there should be no output\n",
    "    else:\n",
    "        pass\n",
    "    \n",
    "    # give back the value at the nth value for the Fibonacci sequence\n",
    "    return Fibo_seq[n]\n",
    "\n",
    "\n"
   ]
  },
  {
   "cell_type": "code",
   "execution_count": 34,
   "metadata": {},
   "outputs": [
    {
     "data": {
      "text/plain": [
       "0"
      ]
     },
     "execution_count": 34,
     "metadata": {},
     "output_type": "execute_result"
    }
   ],
   "source": [
    "# first input test\n",
    "my_function(n=0)"
   ]
  },
  {
   "cell_type": "code",
   "execution_count": 28,
   "metadata": {},
   "outputs": [
    {
     "data": {
      "text/plain": [
       "3"
      ]
     },
     "execution_count": 28,
     "metadata": {},
     "output_type": "execute_result"
    }
   ],
   "source": [
    "# second input test\n",
    "my_function(n=4)"
   ]
  },
  {
   "cell_type": "code",
   "execution_count": 29,
   "metadata": {},
   "outputs": [
    {
     "data": {
      "text/plain": [
       "55"
      ]
     },
     "execution_count": 29,
     "metadata": {},
     "output_type": "execute_result"
    }
   ],
   "source": [
    "# third input test\n",
    "my_function(n=10)"
   ]
  }
 ],
 "metadata": {
  "kernelspec": {
   "display_name": "base",
   "language": "python",
   "name": "python3"
  },
  "language_info": {
   "codemirror_mode": {
    "name": "ipython",
    "version": 3
   },
   "file_extension": ".py",
   "mimetype": "text/x-python",
   "name": "python",
   "nbconvert_exporter": "python",
   "pygments_lexer": "ipython3",
   "version": "3.11.5"
  }
 },
 "nbformat": 4,
 "nbformat_minor": 2
}
