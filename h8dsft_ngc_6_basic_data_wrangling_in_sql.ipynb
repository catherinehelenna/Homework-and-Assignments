{
 "cells": [
  {
   "cell_type": "markdown",
   "metadata": {},
   "source": [
    "# <center>NON GRADED CHALLENGE 6 - PHASE 0 </center>\n",
    "### <center>By Catherine Helenna Mulyadi </center>\n",
    "### <center>RMT - 027</center>\n",
    "\n",
    "This assignment aims to practice SQL functions and connect to big query in google colab.\n",
    "The objectives include:\n",
    "1. Create queries:\n",
    "    a. How many tables are in the austin_bikeshare dataset?\n",
    "    b. How many columns in the bikeshare_stations table have STRING data?\n",
    "2. Create a query to filter data based on the following conditions:\n",
    "    a. Retrieve all trips where the bike_id is not null and the duration is greater than 1000 minutes.\n",
    "    b. Filter trips where the trip_id is \"Walk Up\" and the end_station_name  is \"Stolen\"."
   ]
  },
  {
   "cell_type": "code",
   "execution_count": null,
   "metadata": {},
   "outputs": [],
   "source": [
    "from google.colab import auth\n",
    "from google.cloud import bigquery\n",
    "import pandas as pd\n",
    "\n",
    "auth.authenticate_user()\n",
    "project_id = \"project1-sql-ngc-6\" # Ini project ID\n",
    "client = bigquery.Client(project=project_id)"
   ]
  },
  {
   "cell_type": "code",
   "execution_count": null,
   "metadata": {},
   "outputs": [],
   "source": [
    "# put query here\n",
    "query = \"\"\"SELECT*FROM bigquery-public-data.austin_bikeshare.bikeshare_trips\"\"\"\n",
    "\n",
    "# Set up the query\n",
    "query_job = client.query(query).to_dataframe()\n",
    "query_job"
   ]
  },
  {
   "cell_type": "code",
   "execution_count": null,
   "metadata": {},
   "outputs": [],
   "source": [
    "# How many tables are in the austin_bikeshare dataset?\n",
    "number_of_tables = \"\"\"SELECT COUNT(*) AS number_of_tables FROM bigquery-public-data.austin_bikeshare.bikeshare_trips\"\"\"\n",
    "\n",
    "# Set up the query\n",
    "number_of_tables_job = client.query(number_of_tables).to_dataframe()\n",
    "number_of_tables_job"
   ]
  },
  {
   "cell_type": "code",
   "execution_count": null,
   "metadata": {},
   "outputs": [],
   "source": [
    "# How many columns in the bikeshare_stations table have STRING data?\n",
    "b_stations = \"\"\"\n",
    "SELECT COUNT(column_name) AS number_of_string_columns\n",
    "FROM `bigquery-public-data.austin_bikeshare.INFORMATION_SCHEMA.COLUMNS`\n",
    "WHERE table_name = 'bikeshare_stations' AND data_type = 'STRING';\n",
    "\"\"\"\n",
    "\n",
    "\n",
    "# Set up the query\n",
    "b_stations = client.query(b_stations).to_dataframe()\n",
    "b_stations"
   ]
  },
  {
   "cell_type": "code",
   "execution_count": null,
   "metadata": {},
   "outputs": [],
   "source": [
    "# Retrieve all trips where the bike_id is not null and the duration is greater than 1000 minutes\n",
    "trips = \"\"\"\n",
    "SELECT bike_id, duration_minutes,\n",
    "FROM bigquery-public-data.austin_bikeshare.bikeshare_trips\n",
    "WHERE bike_id IS NOT NULL AND duration_minutes > 1000;\n",
    "\"\"\"\n",
    "\n",
    "trips = client.query(trips).to_dataframe()\n",
    "trips"
   ]
  },
  {
   "cell_type": "code",
   "execution_count": null,
   "metadata": {},
   "outputs": [],
   "source": [
    "# Filter trips where the trip_id is \"Walk Up\" and the end_station_name  is \"Stolen\".\n",
    "filter = \"\"\"\n",
    "SELECT subscriber_type, end_station_name, \n",
    "FROM bigquery-public-data.austin_bikeshare.bikeshare_trips\n",
    "WHERE subscriber_type = \"Walk Up\" AND end_station_name= \"Stolen\";\n",
    "\"\"\"\n",
    "\n",
    "filter = client.query(filter).to_dataframe()\n",
    "filter"
   ]
  }
 ],
 "metadata": {
  "language_info": {
   "name": "python"
  }
 },
 "nbformat": 4,
 "nbformat_minor": 2
}
