{
 "cells": [
  {
   "cell_type": "code",
   "execution_count": null,
   "metadata": {},
   "outputs": [],
   "source": [
    "# class : blueprint/ rangcangan object yang mau dibuat\n",
    "# object : blueprint yang dicetak. jadi harus panggil class.\n",
    "# object : Book untuk kasus ini"
   ]
  },
  {
   "cell_type": "code",
   "execution_count": 1,
   "metadata": {},
   "outputs": [
    {
     "name": "stdout",
     "output_type": "stream",
     "text": [
      "Harry Potter\n"
     ]
    }
   ],
   "source": [
    "# class Book():\n",
    "#     # cara mendefinisikan atribut: def __init__\n",
    "#     # self artinya def init milik dirinya (Book)\n",
    "#     # kalau def itu method\n",
    "#     # kalau def di luar class == function\n",
    "#     def __init__(self, title):\n",
    "#         # define attribute\n",
    "#         # jadi si atribute title dapet value dari title\n",
    "#         self.title = title\n",
    "\n",
    "# # calling class Book: ketika dipanggil\n",
    "# # ketika kelas dipanggil -> class menjadi object\n",
    "# book1 = Book(\"Harry Potter\")\n",
    "# # cara melihat dari atribut title\n",
    "# print(book1.title)\n"
   ]
  },
  {
   "cell_type": "code",
   "execution_count": 56,
   "metadata": {},
   "outputs": [
    {
     "name": "stdout",
     "output_type": "stream",
     "text": [
      "Ini object Book, attribute title = Harry Potter, penulis = J.K. Rowling, dan kode unik = 1\n"
     ]
    }
   ],
   "source": [
    "# kalau mau represent object sebagai string, bisa dibaca tanpa perlu panggil attribute\n",
    "class Book():\n",
    "    # cara mendefinisikan atribut: def __init__\n",
    "    # self artinya def init milik dirinya (Book)\n",
    "    # kalau def itu method\n",
    "    # kalau def di luar class == function\n",
    "    def __init__(self, title, author, uid):\n",
    "        # define attribute\n",
    "        # jadi si atribute title dapet value dari title\n",
    "        # copy celete option + shift + arrow down\n",
    "        self.title = title\n",
    "        self.author = author\n",
    "        self.uid = uid\n",
    "    \n",
    "    #supaya kita bisa melihat object yang bisa dimengerti manusia\n",
    "    def __str__(self):\n",
    "        return f\"Ini object Book, attribute title = {self.title}, penulis = {self.author}, dan kode unik = {self.uid}\"\n",
    "# calling class Book: ketika dipanggil\n",
    "# ketika kelas dipanggil -> class menjadi object\n",
    "# perlu masukkan nilai baru di dalam book\n",
    "try:\n",
    "    book1 = Book(\"Harry Potter\", \"J.K. Rowling\", 1)\n",
    "# cara melihat dari atribut title\n",
    "    print(book1)\n",
    "except:\n",
    "    print(\"Error\")"
   ]
  },
  {
   "cell_type": "code",
   "execution_count": 67,
   "metadata": {},
   "outputs": [
    {
     "name": "stdout",
     "output_type": "stream",
     "text": [
      "=========\n",
      "Harry Potter\n",
      "JK Rowling\n",
      "=========\n",
      "Fantastic Beast\n",
      "JK Rowling\n",
      "=========\n",
      "Earth\n",
      "Tere Liye\n",
      "=========\n",
      "Harry Potter\n",
      "JK Rowling\n",
      "=========\n",
      "Fantastic Beast\n",
      "JK Rowling\n",
      "=========\n",
      "Earth\n",
      "Tere Liye\n",
      "======\n",
      "Ini object Book, attribute title = Earth, penulis = Tere Liye, dan kode unik = 3\n",
      "Ini object Book, attribute title = Earth, penulis = Tere Liye, dan kode unik = 3\n",
      "Ini object Book, attribute title = Harry Potter, penulis = JK Rowling, dan kode unik = 1\n",
      "Ini object Book, attribute title = Fantastic Beast, penulis = JK Rowling, dan kode unik = 2\n",
      "Ini object Book, attribute title = Harry Potter, penulis = JK Rowling, dan kode unik = 1\n",
      "Ini object Book, attribute title = Fantastic Beast, penulis = JK Rowling, dan kode unik = 2\n",
      "Ini object Book, attribute title = Harry Potter, penulis = JK Rowling, dan kode unik = 1\n",
      "Ini object Book, attribute title = Fantastic Beast, penulis = JK Rowling, dan kode unik = 2\n",
      "Ini object Book, attribute title = Harry Potter, penulis = JK Rowling, dan kode unik = 1\n",
      "Ini object Book, attribute title = Fantastic Beast, penulis = JK Rowling, dan kode unik = 2\n",
      "Error\n"
     ]
    }
   ],
   "source": [
    "class Library():\n",
    "    def __init__(self):\n",
    "    # define attribute\n",
    "    # jadi si atribute title dapet value dari title\n",
    "    # copy celete option + shift + arrow down\n",
    "    # karena mau menyimpan kumpulan buku-buku dalam list, jadi kita siapkan list kosong\n",
    "        self.catalog = []\n",
    "    \n",
    "    def addBook(self, book):\n",
    "        # add book to catalog\n",
    "        self.catalog.append(book)\n",
    "\n",
    "    # kalau menghapus, paling bagus dari yang terunik seperti unique id.\n",
    "    def removeBook(self, bookId):\n",
    "        isFound = False\n",
    "        for book in self.catalog:\n",
    "            if book.uid == bookId:\n",
    "                isFound = True\n",
    "                self.catalog.remove(book)\n",
    "                print(\"Book is removed\")\n",
    "                break\n",
    "        try:\n",
    "            if isFound == True:\n",
    "                print(\"Book is removed\")\n",
    "            else:\n",
    "                # untuk memberi tahu python aja\n",
    "                raise Exception(\"Book is not found\")\n",
    "        except:\n",
    "            print(\"Error\")\n",
    "\n",
    "\n",
    "            \n",
    "    # cara bikin opsional; bikin default di mana ga perlu semuanya dimasukin\n",
    "    def searchBook(self, title = \"\", author =\"\"):\n",
    "        for book in self.catalog:\n",
    "            # check if book.title == tile, show it\n",
    "            if book.title == title:\n",
    "                print(book)\n",
    "            # or if book.author == author, show it\n",
    "            elif book.author == author:\n",
    "                print(book)\n",
    "\n",
    "    def displayAll(self):\n",
    "    # showing all book inside the catalog\n",
    "    # loop -> while, for\n",
    "        for book in self.catalog:\n",
    "            print(\"=========\")\n",
    "            print(book.title)\n",
    "            print(book.author)\n",
    "\n",
    "    def __str__(self):\n",
    "        return f\"Ini object library\"\n",
    "\n",
    "\n",
    "# lib = Library()\n",
    "# print(lib)\n",
    "# lib.displayAll()\n",
    "# book1 = Book(\"Harry Potter\", \"JK Rowling\", 1)\n",
    "# book2 = Book(\"Fantastic Beast\", \"JK Rowling\",2)\n",
    "# book3 = Book(\"Earth\", \"Tere Liye\", 3)\n",
    "# cara menggunakan fitur addBook gimana\n",
    "# lib.addBook(book1)\n",
    "# lib.addBook(book2)\n",
    "# lib.addBook(book3)\n",
    "\n",
    "lib.displayAll()\n",
    "print(\"======\")\n",
    "# bisa search by position or name\n",
    "lib.searchBook(\"Earth\")\n",
    "lib.searchBook(\"\",\"JK Rowling\")\n",
    "lib.searchBook(author=\"JK Rowling\")\n",
    "# lib.removeBook(1)\n",
    "# lib.displayAll()\n",
    "\n",
    "# misal\n",
    "lib.removeBook(100)\n",
    "    "
   ]
  },
  {
   "cell_type": "code",
   "execution_count": 41,
   "metadata": {},
   "outputs": [],
   "source": [
    "lib.displayAll()"
   ]
  },
  {
   "cell_type": "code",
   "execution_count": 70,
   "metadata": {},
   "outputs": [
    {
     "name": "stderr",
     "output_type": "stream",
     "text": [
      "test_addBook (__main__.TestLibrary.test_addBook) ... ok\n",
      "\n",
      "----------------------------------------------------------------------\n",
      "Ran 1 test in 0.005s\n",
      "\n",
      "OK\n"
     ]
    },
    {
     "data": {
      "text/plain": [
       "<unittest.main.TestProgram at 0x10c986c50>"
      ]
     },
     "execution_count": 70,
     "metadata": {},
     "output_type": "execute_result"
    }
   ],
   "source": [
    "import unittest\n",
    "\n",
    "class TestLibrary(unittest.TestCase):\n",
    "    # test case\n",
    "    # addBook -> Book saved\n",
    "    \n",
    "    def test_addBook(self):\n",
    "        # harus panggil classnya lagi\n",
    "        lib = Library()\n",
    "        book1 = Book(\"Harry Potter\", \"JK Rowling\", 1)\n",
    "        book2 = Book(\"Fantastic Beast\", \"JK Rowling\",2)\n",
    "        book3 = Book(\"Earth\", \"Tere Liye\", 3)\n",
    "\n",
    "        lib.addBook(book1)\n",
    "        lib.addBook(book2)\n",
    "        lib.addBook(book3)\n",
    "\n",
    "        numberofBooks = len(lib.catalog)\n",
    "\n",
    "    # assertion\n",
    "        self.assertEqual(numberofBooks, 3)\n",
    "\n",
    "unittest.main(argv=[''], verbosity =2, exit= False)\n",
    "        "
   ]
  }
 ],
 "metadata": {
  "kernelspec": {
   "display_name": "base",
   "language": "python",
   "name": "python3"
  },
  "language_info": {
   "codemirror_mode": {
    "name": "ipython",
    "version": 3
   },
   "file_extension": ".py",
   "mimetype": "text/x-python",
   "name": "python",
   "nbconvert_exporter": "python",
   "pygments_lexer": "ipython3",
   "version": "3.11.5"
  }
 },
 "nbformat": 4,
 "nbformat_minor": 2
}
