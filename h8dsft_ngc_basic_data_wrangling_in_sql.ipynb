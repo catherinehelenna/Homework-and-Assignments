{
 "cells": [
  {
   "cell_type": "markdown",
   "metadata": {},
   "source": [
    "# <center>NON GRADED CHALLENGE 5 - PHASE 0 </center>\n",
    "### <center>By Catherine Helenna Mulyadi </center>\n",
    "### <center>RMT - 027</center>\n",
    "\n",
    "This assignment aims to practice SQL functions.\n",
    "The objectives include:\n",
    "1. Able to perform Data Definition Language (DDL) to create a table based on the information obtained.\n",
    "2. Able to use the SELECT, FROM, JOIN and GROUP BY keywords to get data from a certain column."
   ]
  },
  {
   "cell_type": "code",
   "execution_count": null,
   "metadata": {
    "vscode": {
     "languageId": "sql"
    }
   },
   "outputs": [],
   "source": [
    "-- create first table: customer_info --\n",
    "\n",
    "CREATE TABLE customer_info(\n",
    "\tcustomer_id SERIAL PRIMARY KEY,\n",
    "\tcustomer_name VARCHAR(30),\n",
    "\tcity VARCHAR(30)\n",
    ");"
   ]
  },
  {
   "cell_type": "code",
   "execution_count": null,
   "metadata": {
    "vscode": {
     "languageId": "sql"
    }
   },
   "outputs": [],
   "source": [
    "-- create second table: order_info\n",
    "-- note: customer_id is the foreign key, relating with customer_info() table\n",
    "\n",
    "CREATE TABLE order_info(\n",
    "\torder_id SERIAL PRIMARY KEY,\n",
    "\tcustomer_id INTEGER REFERENCES customer_info(customer_id),\n",
    "\torder_date DATE NOT NULL,\n",
    "\ttotal_amount FLOAT\n",
    ");"
   ]
  },
  {
   "cell_type": "code",
   "execution_count": null,
   "metadata": {
    "vscode": {
     "languageId": "sql"
    }
   },
   "outputs": [],
   "source": [
    "-- Inserting values into each table\n",
    "\n",
    "-- Insert values into table customer_info\n",
    "\n",
    "INSERT INTO customer_info (customer_name, city)\n",
    "VALUES\n",
    "    ('John Doe', 'New York'),\n",
    "    ('Jane Smith', 'Los Angeles'),\n",
    "    ('David Johnson', 'Chicago');\n",
    "\n",
    "-- See the result of insertion into the table\n",
    "\n",
    "SELECT * FROM customer_info\n",
    "\n",
    "-- Inserting values into the second table: order_info\n",
    "INSERT INTO order_info (customer_id, order_date, total_amount)\n",
    "VALUES\n",
    "    ('1', '2022-01-10', 100.00),\n",
    "    ('1', '2022-02-15', 150.00),\n",
    "    ('2', '2022-03-20', 200.00),\n",
    "\t('3', '2022-04-25', 50.00);\n",
    "\n",
    "-- See the result of insertion into the table\n",
    "\n",
    "SELECT * FROM order_info"
   ]
  },
  {
   "cell_type": "code",
   "execution_count": null,
   "metadata": {
    "vscode": {
     "languageId": "sql"
    }
   },
   "outputs": [],
   "source": [
    "-- TASK ABOUT JOINING TWO TABLES TO PRESENT TOTAL NUMBER OF ORDERS EACH CUSTOMER MAKES\n",
    "------------------------------------------------------------------------------------------\n",
    "\n",
    "\n",
    "-- SELECT customer_name data from customer info, then COUNT the number of customer id showed in order_info\n",
    "-- label the count output (a column) AS total_orders\n",
    "SELECT customer_info.customer_name, COUNT(order_info.customer_id) AS total_orders\n",
    "-- LEFT JOIN means that the left side will be the result which is FROM the order_info table.\n",
    "-- under condition that order_info.customer_id matches with customer_info.customer_id\n",
    "FROM order_info\n",
    "LEFT JOIN customer_info ON order_info.customer_id = customer_info.customer_id\n",
    "-- GROUP BY means that the result will be concluded into rows according to the customer_name.\n",
    "GROUP BY customer_name;"
   ]
  }
 ],
 "metadata": {
  "kernelspec": {
   "display_name": "base",
   "language": "python",
   "name": "python3"
  },
  "language_info": {
   "codemirror_mode": {
    "name": "ipython",
    "version": 3
   },
   "file_extension": ".py",
   "mimetype": "text/x-python",
   "name": "python",
   "nbconvert_exporter": "python",
   "pygments_lexer": "ipython3",
   "version": "3.11.5"
  }
 },
 "nbformat": 4,
 "nbformat_minor": 2
}
